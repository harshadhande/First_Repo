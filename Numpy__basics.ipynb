{
  "nbformat": 4,
  "nbformat_minor": 0,
  "metadata": {
    "colab": {
      "provenance": [],
      "authorship_tag": "ABX9TyOzgeTLaTJ2pjGT4siWqp/U",
      "include_colab_link": true
    },
    "kernelspec": {
      "name": "python3",
      "display_name": "Python 3"
    },
    "language_info": {
      "name": "python"
    }
  },
  "cells": [
    {
      "cell_type": "markdown",
      "metadata": {
        "id": "view-in-github",
        "colab_type": "text"
      },
      "source": [
        "<a href=\"https://colab.research.google.com/github/harshadhande/First_Repo/blob/main/Numpy__basics.ipynb\" target=\"_parent\"><img src=\"https://colab.research.google.com/assets/colab-badge.svg\" alt=\"Open In Colab\"/></a>"
      ]
    },
    {
      "cell_type": "markdown",
      "source": [
        "#**Importing Numpy**"
      ],
      "metadata": {
        "id": "zmAbqIq0eW58"
      }
    },
    {
      "cell_type": "code",
      "source": [
        "import numpy as np"
      ],
      "metadata": {
        "id": "bijzQpz89vQl"
      },
      "execution_count": null,
      "outputs": []
    },
    {
      "cell_type": "markdown",
      "source": [
        "#**Create numpy**"
      ],
      "metadata": {
        "id": "1fASThC092fT"
      }
    },
    {
      "cell_type": "code",
      "source": [
        "a=np.array([1, 2,3,4,5,6])\n",
        "a"
      ],
      "metadata": {
        "colab": {
          "base_uri": "https://localhost:8080/"
        },
        "id": "k4HHm7-_91iA",
        "outputId": "b4cc4e36-8577-46dd-89cf-84485a095480"
      },
      "execution_count": null,
      "outputs": [
        {
          "output_type": "execute_result",
          "data": {
            "text/plain": [
              "array([1, 2, 3, 4, 5, 6])"
            ]
          },
          "metadata": {},
          "execution_count": 3
        }
      ]
    },
    {
      "cell_type": "code",
      "source": [
        "# 2d and 3d\n",
        "b=np.array([[1, 2,3], [ 4,5,6]])\n",
        "b"
      ],
      "metadata": {
        "colab": {
          "base_uri": "https://localhost:8080/"
        },
        "id": "67FkBOpe-HsT",
        "outputId": "f73f6971-693a-4fcd-e2b2-2cc0be0984a6"
      },
      "execution_count": null,
      "outputs": [
        {
          "output_type": "execute_result",
          "data": {
            "text/plain": [
              "array([[1, 2, 3],\n",
              "       [4, 5, 6]])"
            ]
          },
          "metadata": {},
          "execution_count": 5
        }
      ]
    },
    {
      "cell_type": "code",
      "source": [
        "\n",
        "c=np.array([[[1, 2], [3, 4]], [[5, 6], [7, 8]]])\n",
        "c"
      ],
      "metadata": {
        "colab": {
          "base_uri": "https://localhost:8080/"
        },
        "id": "Z23jvpYJ-1KT",
        "outputId": "385f7d02-cc17-405d-9ba2-00f128618329"
      },
      "execution_count": null,
      "outputs": [
        {
          "output_type": "execute_result",
          "data": {
            "text/plain": [
              "array([[[1, 2],\n",
              "        [3, 4]],\n",
              "\n",
              "       [[5, 6],\n",
              "        [7, 8]]])"
            ]
          },
          "metadata": {},
          "execution_count": 6
        }
      ]
    },
    {
      "cell_type": "code",
      "source": [
        "#dtype\n",
        "np.array([1, 2,3], dtype=float)"
      ],
      "metadata": {
        "colab": {
          "base_uri": "https://localhost:8080/"
        },
        "id": "y1wQHZNU_xdZ",
        "outputId": "5ab1887e-3113-4b50-87cb-d9fb019d61a0"
      },
      "execution_count": null,
      "outputs": [
        {
          "output_type": "execute_result",
          "data": {
            "text/plain": [
              "array([1., 2., 3.])"
            ]
          },
          "metadata": {},
          "execution_count": 7
        }
      ]
    },
    {
      "cell_type": "code",
      "source": [
        "a = np.array([1, 2, 3], dtype=np.uint8)\n",
        "print(a)\n",
        "print(a.dtype)\n",
        "b = np.array([1, 2, 3], dtype=complex)\n",
        "print(b)\n",
        "print(b.dtype)"
      ],
      "metadata": {
        "colab": {
          "base_uri": "https://localhost:8080/"
        },
        "id": "IorwuW17CDDB",
        "outputId": "88cf4531-282d-4a46-f316-c736fb2b4985"
      },
      "execution_count": null,
      "outputs": [
        {
          "output_type": "stream",
          "name": "stdout",
          "text": [
            "[1 2 3]\n",
            "uint8\n",
            "[1.+0.j 2.+0.j 3.+0.j]\n",
            "complex128\n"
          ]
        }
      ]
    },
    {
      "cell_type": "code",
      "source": [
        "# np.arange\n",
        "np.arange(1,11,2)"
      ],
      "metadata": {
        "colab": {
          "base_uri": "https://localhost:8080/"
        },
        "id": "M1dmMNzfHXGo",
        "outputId": "d211554d-5162-4f38-ee86-8df8b58ebc47"
      },
      "execution_count": null,
      "outputs": [
        {
          "output_type": "execute_result",
          "data": {
            "text/plain": [
              "array([1, 3, 5, 7, 9])"
            ]
          },
          "metadata": {},
          "execution_count": 10
        }
      ]
    },
    {
      "cell_type": "code",
      "source": [
        "a=np.arange(0, 10,3)\n",
        "a"
      ],
      "metadata": {
        "colab": {
          "base_uri": "https://localhost:8080/"
        },
        "id": "7dp969W1H1Kl",
        "outputId": "2d398acc-968c-4897-e538-c2b3c20ab232"
      },
      "execution_count": null,
      "outputs": [
        {
          "output_type": "execute_result",
          "data": {
            "text/plain": [
              "array([0, 3, 6, 9])"
            ]
          },
          "metadata": {},
          "execution_count": 12
        }
      ]
    },
    {
      "cell_type": "code",
      "source": [
        " #with reshape\n",
        "np.arange(16).reshape(2,2,2,2)"
      ],
      "metadata": {
        "colab": {
          "base_uri": "https://localhost:8080/"
        },
        "id": "tBPOtX4VKEtU",
        "outputId": "433205ce-ce63-4d3b-97c5-9c4160db5438"
      },
      "execution_count": null,
      "outputs": [
        {
          "output_type": "execute_result",
          "data": {
            "text/plain": [
              "array([[[[ 0,  1],\n",
              "         [ 2,  3]],\n",
              "\n",
              "        [[ 4,  5],\n",
              "         [ 6,  7]]],\n",
              "\n",
              "\n",
              "       [[[ 8,  9],\n",
              "         [10, 11]],\n",
              "\n",
              "        [[12, 13],\n",
              "         [14, 15]]]])"
            ]
          },
          "metadata": {},
          "execution_count": 13
        }
      ]
    },
    {
      "cell_type": "code",
      "source": [
        "# np.ones and np.zeros\n",
        "np.ones((3,3))"
      ],
      "metadata": {
        "colab": {
          "base_uri": "https://localhost:8080/"
        },
        "id": "2zQ4pEydKHYD",
        "outputId": "ad0db68d-68d2-419e-87c5-0308efafff8b"
      },
      "execution_count": null,
      "outputs": [
        {
          "output_type": "execute_result",
          "data": {
            "text/plain": [
              "array([[1., 1., 1.],\n",
              "       [1., 1., 1.],\n",
              "       [1., 1., 1.]])"
            ]
          },
          "metadata": {},
          "execution_count": 14
        }
      ]
    },
    {
      "cell_type": "code",
      "source": [
        "np.zeros((3, 4))"
      ],
      "metadata": {
        "colab": {
          "base_uri": "https://localhost:8080/"
        },
        "id": "JlZZp4M8Kxka",
        "outputId": "980b4ce9-94d5-47aa-cd0f-fbe4dcb3f6c0"
      },
      "execution_count": null,
      "outputs": [
        {
          "output_type": "execute_result",
          "data": {
            "text/plain": [
              "array([[0., 0., 0., 0.],\n",
              "       [0., 0., 0., 0.],\n",
              "       [0., 0., 0., 0.]])"
            ]
          },
          "metadata": {},
          "execution_count": 16
        }
      ]
    },
    {
      "cell_type": "code",
      "source": [
        "#np.random\n",
        "np.random.random((3, 4))"
      ],
      "metadata": {
        "colab": {
          "base_uri": "https://localhost:8080/"
        },
        "id": "shxwREAzM6Va",
        "outputId": "bdfc9af6-d955-4665-cd9d-21945d0600c6"
      },
      "execution_count": null,
      "outputs": [
        {
          "output_type": "execute_result",
          "data": {
            "text/plain": [
              "array([[0.70826685, 0.65842891, 0.08362838, 0.87444377],\n",
              "       [0.57996447, 0.62374924, 0.05670114, 0.08434905],\n",
              "       [0.34541348, 0.73045686, 0.16641962, 0.08871152]])"
            ]
          },
          "metadata": {},
          "execution_count": 18
        }
      ]
    },
    {
      "cell_type": "code",
      "source": [
        "\n",
        "# np\n",
        "np.identity(7)"
      ],
      "metadata": {
        "colab": {
          "base_uri": "https://localhost:8080/"
        },
        "id": "WGrFYWwSODNd",
        "outputId": "54470c8e-9e21-4f90-aaac-ffbd9ea39a45"
      },
      "execution_count": null,
      "outputs": [
        {
          "output_type": "execute_result",
          "data": {
            "text/plain": [
              "array([[1., 0., 0., 0., 0., 0., 0.],\n",
              "       [0., 1., 0., 0., 0., 0., 0.],\n",
              "       [0., 0., 1., 0., 0., 0., 0.],\n",
              "       [0., 0., 0., 1., 0., 0., 0.],\n",
              "       [0., 0., 0., 0., 1., 0., 0.],\n",
              "       [0., 0., 0., 0., 0., 1., 0.],\n",
              "       [0., 0., 0., 0., 0., 0., 1.]])"
            ]
          },
          "metadata": {},
          "execution_count": 20
        }
      ]
    },
    {
      "cell_type": "code",
      "source": [
        "np.linspace(-10, 10,10,dtype=float)"
      ],
      "metadata": {
        "colab": {
          "base_uri": "https://localhost:8080/"
        },
        "id": "6ZsGeta4PCvc",
        "outputId": "280e1e05-cf5d-4ab5-8106-860589bdff33"
      },
      "execution_count": null,
      "outputs": [
        {
          "output_type": "execute_result",
          "data": {
            "text/plain": [
              "array([-10.        ,  -7.77777778,  -5.55555556,  -3.33333333,\n",
              "        -1.11111111,   1.11111111,   3.33333333,   5.55555556,\n",
              "         7.77777778,  10.        ])"
            ]
          },
          "metadata": {},
          "execution_count": 22
        }
      ]
    },
    {
      "cell_type": "code",
      "source": [
        "np.random.randint(2,10,5)"
      ],
      "metadata": {
        "colab": {
          "base_uri": "https://localhost:8080/"
        },
        "id": "hXD9b2kVeb2r",
        "outputId": "7c0b3a21-d093-4965-9d6f-2e1cc02f223e"
      },
      "execution_count": null,
      "outputs": [
        {
          "output_type": "execute_result",
          "data": {
            "text/plain": [
              "array([9, 3, 7, 4, 8])"
            ]
          },
          "metadata": {},
          "execution_count": 24
        }
      ]
    },
    {
      "cell_type": "markdown",
      "source": [
        "#***ATTRIBUTES OF ARRAY***"
      ],
      "metadata": {
        "id": "FpAE9villYEZ"
      }
    },
    {
      "cell_type": "markdown",
      "source": [
        "2 DIMENSION"
      ],
      "metadata": {
        "id": "tfPgEEI4npz_"
      }
    },
    {
      "cell_type": "code",
      "source": [
        "b = np.array([[1,2,3],[4,5,6]])\n",
        "print(b)\n",
        "b.ndim\n"
      ],
      "metadata": {
        "colab": {
          "base_uri": "https://localhost:8080/"
        },
        "id": "F0PCwUofjEps",
        "outputId": "1f6f2b37-b405-44e4-d82e-6c689e1395d2"
      },
      "execution_count": null,
      "outputs": [
        {
          "output_type": "stream",
          "name": "stdout",
          "text": [
            "[[1 2 3]\n",
            " [4 5 6]]\n"
          ]
        },
        {
          "output_type": "execute_result",
          "data": {
            "text/plain": [
              "2"
            ]
          },
          "metadata": {},
          "execution_count": 28
        }
      ]
    },
    {
      "cell_type": "code",
      "source": [
        "b = np.array([[1,2,3],[4,5,6]])\n",
        "print(b)\n",
        "b.shape"
      ],
      "metadata": {
        "colab": {
          "base_uri": "https://localhost:8080/"
        },
        "id": "5u3jO9pTjIhF",
        "outputId": "0e6b59cc-d696-4453-d97d-5323fb252a33"
      },
      "execution_count": null,
      "outputs": [
        {
          "output_type": "stream",
          "name": "stdout",
          "text": [
            "[[1 2 3]\n",
            " [4 5 6]]\n"
          ]
        },
        {
          "output_type": "execute_result",
          "data": {
            "text/plain": [
              "(2, 3)"
            ]
          },
          "metadata": {},
          "execution_count": 29
        }
      ]
    },
    {
      "cell_type": "code",
      "source": [
        "b = np.array([[1,2,3],[4,5,6]])\n",
        "print(b)\n",
        "b.size"
      ],
      "metadata": {
        "colab": {
          "base_uri": "https://localhost:8080/"
        },
        "id": "279H1UKYj9kC",
        "outputId": "b0717275-8a80-4fcf-c0c3-29e36ee15038"
      },
      "execution_count": null,
      "outputs": [
        {
          "output_type": "stream",
          "name": "stdout",
          "text": [
            "[[1 2 3]\n",
            " [4 5 6]]\n"
          ]
        },
        {
          "output_type": "execute_result",
          "data": {
            "text/plain": [
              "6"
            ]
          },
          "metadata": {},
          "execution_count": 30
        }
      ]
    },
    {
      "cell_type": "code",
      "source": [
        "b = np.array([[1,2,3],[4,5,6]])\n",
        "print(b)\n",
        "b.dtype"
      ],
      "metadata": {
        "colab": {
          "base_uri": "https://localhost:8080/"
        },
        "id": "xd1wDVG4j_fx",
        "outputId": "9e6c388c-b460-425e-9115-3074f4a2c089"
      },
      "execution_count": null,
      "outputs": [
        {
          "output_type": "stream",
          "name": "stdout",
          "text": [
            "[[1 2 3]\n",
            " [4 5 6]]\n"
          ]
        },
        {
          "output_type": "execute_result",
          "data": {
            "text/plain": [
              "dtype('int64')"
            ]
          },
          "metadata": {},
          "execution_count": 31
        }
      ]
    },
    {
      "cell_type": "code",
      "source": [
        "b = np.array([[1,2,3],[4,5,6]])\n",
        "print(b)\n",
        "b.itemsize"
      ],
      "metadata": {
        "colab": {
          "base_uri": "https://localhost:8080/"
        },
        "id": "QV2Wn7PSkCiO",
        "outputId": "f66fb5aa-a728-4bac-ad04-c2132ffca928"
      },
      "execution_count": null,
      "outputs": [
        {
          "output_type": "stream",
          "name": "stdout",
          "text": [
            "[[1 2 3]\n",
            " [4 5 6]]\n"
          ]
        },
        {
          "output_type": "execute_result",
          "data": {
            "text/plain": [
              "8"
            ]
          },
          "metadata": {},
          "execution_count": 32
        }
      ]
    },
    {
      "cell_type": "code",
      "source": [
        "b = np.array([[1,2,3],[4,5,6]])\n",
        "print(b)\n",
        "b.nbytes"
      ],
      "metadata": {
        "colab": {
          "base_uri": "https://localhost:8080/"
        },
        "id": "dcHIgrDGkGmx",
        "outputId": "202dc5e9-0684-4dad-8efa-403835b91504"
      },
      "execution_count": null,
      "outputs": [
        {
          "output_type": "stream",
          "name": "stdout",
          "text": [
            "[[1 2 3]\n",
            " [4 5 6]]\n"
          ]
        },
        {
          "output_type": "execute_result",
          "data": {
            "text/plain": [
              "48"
            ]
          },
          "metadata": {},
          "execution_count": 33
        }
      ]
    },
    {
      "cell_type": "markdown",
      "source": [
        "1 DIMENSION"
      ],
      "metadata": {
        "id": "acSuaSAenlIG"
      }
    },
    {
      "cell_type": "code",
      "source": [
        "a=np.array([1, 2,3,4,5,6])\n",
        "a.ndim"
      ],
      "metadata": {
        "colab": {
          "base_uri": "https://localhost:8080/"
        },
        "id": "JfkAyrdcm097",
        "outputId": "de6aedfc-812c-4387-9e99-e729ed643aa8"
      },
      "execution_count": null,
      "outputs": [
        {
          "output_type": "execute_result",
          "data": {
            "text/plain": [
              "1"
            ]
          },
          "metadata": {},
          "execution_count": 37
        }
      ]
    },
    {
      "cell_type": "code",
      "source": [
        "a.shape"
      ],
      "metadata": {
        "colab": {
          "base_uri": "https://localhost:8080/"
        },
        "id": "DgwuONzLm32k",
        "outputId": "3c452a74-d1bc-41ce-e9dd-8568f4c937ae"
      },
      "execution_count": null,
      "outputs": [
        {
          "output_type": "execute_result",
          "data": {
            "text/plain": [
              "(6,)"
            ]
          },
          "metadata": {},
          "execution_count": 38
        }
      ]
    },
    {
      "cell_type": "code",
      "source": [
        "a.size"
      ],
      "metadata": {
        "colab": {
          "base_uri": "https://localhost:8080/"
        },
        "id": "CfoLJtG3m7KC",
        "outputId": "82db24c1-5cdb-4944-bfb5-60f6feebeeed"
      },
      "execution_count": null,
      "outputs": [
        {
          "output_type": "execute_result",
          "data": {
            "text/plain": [
              "6"
            ]
          },
          "metadata": {},
          "execution_count": 39
        }
      ]
    },
    {
      "cell_type": "code",
      "source": [
        "a.itemsize"
      ],
      "metadata": {
        "colab": {
          "base_uri": "https://localhost:8080/"
        },
        "id": "wfRrbn7cm85e",
        "outputId": "c1aee4ff-1276-4385-f0b7-e071c5f0d755"
      },
      "execution_count": null,
      "outputs": [
        {
          "output_type": "execute_result",
          "data": {
            "text/plain": [
              "8"
            ]
          },
          "metadata": {},
          "execution_count": 40
        }
      ]
    },
    {
      "cell_type": "code",
      "source": [
        "a.nbytes"
      ],
      "metadata": {
        "colab": {
          "base_uri": "https://localhost:8080/"
        },
        "id": "VYPsy22tm_up",
        "outputId": "5df04f73-2efd-4371-f2b4-0dc926273988"
      },
      "execution_count": null,
      "outputs": [
        {
          "output_type": "execute_result",
          "data": {
            "text/plain": [
              "48"
            ]
          },
          "metadata": {},
          "execution_count": 41
        }
      ]
    },
    {
      "cell_type": "code",
      "source": [
        "a.dtype"
      ],
      "metadata": {
        "colab": {
          "base_uri": "https://localhost:8080/"
        },
        "id": "XyhqJNHenBMY",
        "outputId": "8f5d960e-4d53-47b3-e717-93b2fe8e20b6"
      },
      "execution_count": null,
      "outputs": [
        {
          "output_type": "execute_result",
          "data": {
            "text/plain": [
              "dtype('int64')"
            ]
          },
          "metadata": {},
          "execution_count": 42
        }
      ]
    },
    {
      "cell_type": "markdown",
      "source": [
        "3 DIMENSION"
      ],
      "metadata": {
        "id": "ehdKF5Gznczd"
      }
    },
    {
      "cell_type": "code",
      "source": [
        "c=np.array([[[1, 2], [3, 4]], [[5, 6], [7, 8]]])\n",
        "c.ndim"
      ],
      "metadata": {
        "colab": {
          "base_uri": "https://localhost:8080/"
        },
        "id": "PKQGAF_KnDh9",
        "outputId": "f356562d-6514-40c0-e18d-1f0068306a85"
      },
      "execution_count": null,
      "outputs": [
        {
          "output_type": "execute_result",
          "data": {
            "text/plain": [
              "3"
            ]
          },
          "metadata": {},
          "execution_count": 43
        }
      ]
    },
    {
      "cell_type": "code",
      "source": [
        "c.shape"
      ],
      "metadata": {
        "colab": {
          "base_uri": "https://localhost:8080/"
        },
        "id": "p_fiiAkVnOx0",
        "outputId": "aff83a7d-aca3-4f0c-e723-578bdae0ff8d"
      },
      "execution_count": null,
      "outputs": [
        {
          "output_type": "execute_result",
          "data": {
            "text/plain": [
              "(2, 2, 2)"
            ]
          },
          "metadata": {},
          "execution_count": 44
        }
      ]
    },
    {
      "cell_type": "code",
      "source": [
        "c.size"
      ],
      "metadata": {
        "colab": {
          "base_uri": "https://localhost:8080/"
        },
        "id": "fst7qvTbnRJo",
        "outputId": "9c51fbaf-0ff5-4a7a-db87-437409caf073"
      },
      "execution_count": null,
      "outputs": [
        {
          "output_type": "execute_result",
          "data": {
            "text/plain": [
              "8"
            ]
          },
          "metadata": {},
          "execution_count": 45
        }
      ]
    },
    {
      "cell_type": "code",
      "source": [
        "c.dtype"
      ],
      "metadata": {
        "colab": {
          "base_uri": "https://localhost:8080/"
        },
        "id": "nGEBHdYUnTR7",
        "outputId": "212d8a05-e6d9-450b-8c47-0f4f565a0438"
      },
      "execution_count": null,
      "outputs": [
        {
          "output_type": "execute_result",
          "data": {
            "text/plain": [
              "dtype('int64')"
            ]
          },
          "metadata": {},
          "execution_count": 46
        }
      ]
    },
    {
      "cell_type": "code",
      "source": [
        "c.itemsize"
      ],
      "metadata": {
        "colab": {
          "base_uri": "https://localhost:8080/"
        },
        "id": "dQeLJtd_nUyo",
        "outputId": "75a3cf9d-2c79-4ce8-e159-4fb3727e0f5f"
      },
      "execution_count": null,
      "outputs": [
        {
          "output_type": "execute_result",
          "data": {
            "text/plain": [
              "8"
            ]
          },
          "metadata": {},
          "execution_count": 47
        }
      ]
    },
    {
      "cell_type": "code",
      "source": [
        "c.nbytes"
      ],
      "metadata": {
        "colab": {
          "base_uri": "https://localhost:8080/"
        },
        "id": "VNacyMlvnYKX",
        "outputId": "cdf3926e-3465-4a54-a604-d43ebcb2edb6"
      },
      "execution_count": null,
      "outputs": [
        {
          "output_type": "execute_result",
          "data": {
            "text/plain": [
              "64"
            ]
          },
          "metadata": {},
          "execution_count": 48
        }
      ]
    },
    {
      "cell_type": "markdown",
      "source": [
        "#**Changing Datatypes**"
      ],
      "metadata": {
        "id": "XuWIUZLtpeK2"
      }
    },
    {
      "cell_type": "code",
      "source": [
        "a.astype(np.int32)"
      ],
      "metadata": {
        "colab": {
          "base_uri": "https://localhost:8080/"
        },
        "id": "bthtrqs_nZzh",
        "outputId": "04331bad-d322-404f-b26c-cc72c1ac31ca"
      },
      "execution_count": null,
      "outputs": [
        {
          "output_type": "execute_result",
          "data": {
            "text/plain": [
              "array([1, 2, 3, 4, 5, 6], dtype=int32)"
            ]
          },
          "metadata": {},
          "execution_count": 49
        }
      ]
    },
    {
      "cell_type": "code",
      "source": [
        "a.astype(np.float32).dtype"
      ],
      "metadata": {
        "colab": {
          "base_uri": "https://localhost:8080/"
        },
        "id": "gfVoeydAqb2I",
        "outputId": "4f5a8544-89e9-44c3-8c0e-86eb3170c90e"
      },
      "execution_count": null,
      "outputs": [
        {
          "output_type": "execute_result",
          "data": {
            "text/plain": [
              "dtype('float32')"
            ]
          },
          "metadata": {},
          "execution_count": 52
        }
      ]
    },
    {
      "cell_type": "markdown",
      "source": [
        "#**Array Operations**"
      ],
      "metadata": {
        "id": "j1MospAjqpuP"
      }
    },
    {
      "cell_type": "code",
      "source": [
        "a1 = np.arange(12).reshape(3,4)\n",
        "a2 = np.arange(12,24).reshape(3,4)\n",
        "\n",
        "a2"
      ],
      "metadata": {
        "colab": {
          "base_uri": "https://localhost:8080/"
        },
        "id": "Sdm8XsAIUFXC",
        "outputId": "1c57ad0c-2f14-4219-e070-d458efe8b346"
      },
      "execution_count": null,
      "outputs": [
        {
          "output_type": "execute_result",
          "data": {
            "text/plain": [
              "array([[12, 13, 14, 15],\n",
              "       [16, 17, 18, 19],\n",
              "       [20, 21, 22, 23]])"
            ]
          },
          "metadata": {},
          "execution_count": 4
        }
      ]
    },
    {
      "cell_type": "code",
      "source": [
        "# arithmetic\n",
        "a1 ** 2"
      ],
      "metadata": {
        "colab": {
          "base_uri": "https://localhost:8080/"
        },
        "id": "rxZrOPxMUoFQ",
        "outputId": "2e4c104a-089a-48bd-8e1d-258fba1ed3f8"
      },
      "execution_count": null,
      "outputs": [
        {
          "output_type": "execute_result",
          "data": {
            "text/plain": [
              "array([[  0,   1,   4,   9],\n",
              "       [ 16,  25,  36,  49],\n",
              "       [ 64,  81, 100, 121]])"
            ]
          },
          "metadata": {},
          "execution_count": 5
        }
      ]
    },
    {
      "cell_type": "code",
      "source": [
        "#relational\n",
        "a2 == 15"
      ],
      "metadata": {
        "colab": {
          "base_uri": "https://localhost:8080/"
        },
        "id": "h_Q55tSwUs33",
        "outputId": "fdcdba7e-a169-4127-8238-18a6d81a4643"
      },
      "execution_count": null,
      "outputs": [
        {
          "output_type": "execute_result",
          "data": {
            "text/plain": [
              "array([[False, False, False,  True],\n",
              "       [False, False, False, False],\n",
              "       [False, False, False, False]])"
            ]
          },
          "metadata": {},
          "execution_count": 6
        }
      ]
    },
    {
      "cell_type": "code",
      "source": [
        "# vector operations\n",
        "# arithmetic\n",
        "a1 ** a2"
      ],
      "metadata": {
        "colab": {
          "base_uri": "https://localhost:8080/"
        },
        "id": "XsH0NTrcUyB-",
        "outputId": "2099e6f1-b44f-49e0-8bf9-86599707c0aa"
      },
      "execution_count": null,
      "outputs": [
        {
          "output_type": "execute_result",
          "data": {
            "text/plain": [
              "array([[                   0,                    1,                16384,\n",
              "                    14348907],\n",
              "       [          4294967296,         762939453125,      101559956668416,\n",
              "           11398895185373143],\n",
              "       [ 1152921504606846976, -1261475310744950487,  1864712049423024128,\n",
              "         6839173302027254275]])"
            ]
          },
          "metadata": {},
          "execution_count": 7
        }
      ]
    },
    {
      "cell_type": "markdown",
      "source": [
        "#array functions\n"
      ],
      "metadata": {
        "id": "czEcnosEU8p6"
      }
    },
    {
      "cell_type": "code",
      "source": [
        "a1 = np.random.random((3,3))\n",
        "a1 = np.round(a1*100)\n",
        "a1"
      ],
      "metadata": {
        "colab": {
          "base_uri": "https://localhost:8080/"
        },
        "id": "3x1ROGfVVAsJ",
        "outputId": "fdedb4c6-b74e-48b2-cce8-ed73c8a091a4"
      },
      "execution_count": null,
      "outputs": [
        {
          "output_type": "execute_result",
          "data": {
            "text/plain": [
              "array([[91., 46., 84.],\n",
              "       [31., 68., 33.],\n",
              "       [70., 34., 88.]])"
            ]
          },
          "metadata": {},
          "execution_count": 8
        }
      ]
    },
    {
      "cell_type": "code",
      "source": [
        "np.prod(a1,axis=0)"
      ],
      "metadata": {
        "colab": {
          "base_uri": "https://localhost:8080/"
        },
        "id": "TPDwEgGGVIWZ",
        "outputId": "e3ea319f-4480-4fd5-b592-74f376521758"
      },
      "execution_count": null,
      "outputs": [
        {
          "output_type": "execute_result",
          "data": {
            "text/plain": [
              "array([197470., 106352., 243936.])"
            ]
          },
          "metadata": {},
          "execution_count": 11
        }
      ]
    },
    {
      "cell_type": "code",
      "source": [
        "np.var(a1,axis=1)"
      ],
      "metadata": {
        "colab": {
          "base_uri": "https://localhost:8080/"
        },
        "id": "d9z73zM4VPM1",
        "outputId": "ef9050fc-8907-4308-e6c3-ee007d43dd6c"
      },
      "execution_count": null,
      "outputs": [
        {
          "output_type": "execute_result",
          "data": {
            "text/plain": [
              "array([390.88888889, 288.66666667, 504.        ])"
            ]
          },
          "metadata": {},
          "execution_count": 12
        }
      ]
    },
    {
      "cell_type": "code",
      "source": [
        "# trigonomoetric functions\n",
        "np.sin(a1)"
      ],
      "metadata": {
        "colab": {
          "base_uri": "https://localhost:8080/"
        },
        "id": "OqR2q3o2VaAY",
        "outputId": "064000f5-696b-496c-9a79-7d48ea0dcce7"
      },
      "execution_count": null,
      "outputs": [
        {
          "output_type": "execute_result",
          "data": {
            "text/plain": [
              "array([[ 0.10598751,  0.90178835,  0.73319032],\n",
              "       [-0.40403765, -0.89792768,  0.99991186],\n",
              "       [ 0.77389068,  0.52908269,  0.0353983 ]])"
            ]
          },
          "metadata": {},
          "execution_count": 13
        }
      ]
    },
    {
      "cell_type": "code",
      "source": [
        "import numpy as np\n",
        "c=np.array([[[1, 2], [3, 4]], [[5, 6], [7, 8]]])\n",
        "c"
      ],
      "metadata": {
        "colab": {
          "base_uri": "https://localhost:8080/"
        },
        "id": "DIaPvyv6DUTR",
        "outputId": "2bea6acb-2c28-49a2-8ff3-69b3ca1c0ddc"
      },
      "execution_count": null,
      "outputs": [
        {
          "output_type": "execute_result",
          "data": {
            "text/plain": [
              "array([[[1, 2],\n",
              "        [3, 4]],\n",
              "\n",
              "       [[5, 6],\n",
              "        [7, 8]]])"
            ]
          },
          "metadata": {},
          "execution_count": 2
        }
      ]
    },
    {
      "cell_type": "code",
      "source": [
        "#log and exponents\n",
        "import numpy as np\n",
        "\n",
        "np.exp(c)"
      ],
      "metadata": {
        "id": "ND8KprUNqipW",
        "colab": {
          "base_uri": "https://localhost:8080/"
        },
        "outputId": "1e537ae8-8261-41a8-f57f-9942a28f27ac"
      },
      "execution_count": null,
      "outputs": [
        {
          "output_type": "execute_result",
          "data": {
            "text/plain": [
              "array([[[2.71828183e+00, 7.38905610e+00],\n",
              "        [2.00855369e+01, 5.45981500e+01]],\n",
              "\n",
              "       [[1.48413159e+02, 4.03428793e+02],\n",
              "        [1.09663316e+03, 2.98095799e+03]]])"
            ]
          },
          "metadata": {},
          "execution_count": 5
        }
      ]
    },
    {
      "cell_type": "markdown",
      "source": [
        "#indexing and slicing\n"
      ],
      "metadata": {
        "id": "tYf1FXAeMsn2"
      }
    },
    {
      "cell_type": "code",
      "source": [
        " a1 = np.arange(10,dtype=np.int32)\n",
        "a2 = np.arange(12,dtype=float).reshape(3,4)\n",
        "a3 = np.arange(8).reshape(2,2,2)\n",
        "\n",
        "a3"
      ],
      "metadata": {
        "colab": {
          "base_uri": "https://localhost:8080/"
        },
        "id": "XwOGdy4EDG4l",
        "outputId": "894b5048-8efa-493e-f0cf-86b7776eb556"
      },
      "execution_count": null,
      "outputs": [
        {
          "output_type": "execute_result",
          "data": {
            "text/plain": [
              "array([[[0, 1],\n",
              "        [2, 3]],\n",
              "\n",
              "       [[4, 5],\n",
              "        [6, 7]]])"
            ]
          },
          "metadata": {},
          "execution_count": 6
        }
      ]
    },
    {
      "cell_type": "code",
      "source": [
        "a1"
      ],
      "metadata": {
        "colab": {
          "base_uri": "https://localhost:8080/"
        },
        "id": "OZ1URHZuMwny",
        "outputId": "076e8732-9206-4351-8cb7-414ca1be9f2d"
      },
      "execution_count": null,
      "outputs": [
        {
          "output_type": "execute_result",
          "data": {
            "text/plain": [
              "array([0, 1, 2, 3, 4, 5, 6, 7, 8, 9], dtype=int32)"
            ]
          },
          "metadata": {},
          "execution_count": 7
        }
      ]
    },
    {
      "cell_type": "code",
      "source": [
        "a2"
      ],
      "metadata": {
        "colab": {
          "base_uri": "https://localhost:8080/"
        },
        "id": "WQXnGcP6M55G",
        "outputId": "65748c5f-7c7f-4948-ad56-49678ffac14d"
      },
      "execution_count": null,
      "outputs": [
        {
          "output_type": "execute_result",
          "data": {
            "text/plain": [
              "array([[ 0.,  1.,  2.,  3.],\n",
              "       [ 4.,  5.,  6.,  7.],\n",
              "       [ 8.,  9., 10., 11.]])"
            ]
          },
          "metadata": {},
          "execution_count": 8
        }
      ]
    },
    {
      "cell_type": "code",
      "source": [
        "a2[2:5:2]"
      ],
      "metadata": {
        "colab": {
          "base_uri": "https://localhost:8080/"
        },
        "id": "LPAx8HCzM8hz",
        "outputId": "2ec4d959-6d7b-46a7-9d25-1ee23d5e793a"
      },
      "execution_count": null,
      "outputs": [
        {
          "output_type": "execute_result",
          "data": {
            "text/plain": [
              "array([[ 8.,  9., 10., 11.]])"
            ]
          },
          "metadata": {},
          "execution_count": 10
        }
      ]
    },
    {
      "cell_type": "code",
      "source": [
        "a2[0:2,1::2]"
      ],
      "metadata": {
        "colab": {
          "base_uri": "https://localhost:8080/"
        },
        "id": "RBErMxeCNM6g",
        "outputId": "d477f8ab-5910-4476-cc79-514ba14c75be"
      },
      "execution_count": null,
      "outputs": [
        {
          "output_type": "execute_result",
          "data": {
            "text/plain": [
              "array([[1., 3.],\n",
              "       [5., 7.]])"
            ]
          },
          "metadata": {},
          "execution_count": 11
        }
      ]
    },
    {
      "cell_type": "code",
      "source": [
        "a2[::2,1::2]"
      ],
      "metadata": {
        "colab": {
          "base_uri": "https://localhost:8080/"
        },
        "id": "aF_soBuPNVjy",
        "outputId": "c069b5e4-0a24-4981-a786-4e7f923938ed"
      },
      "execution_count": null,
      "outputs": [
        {
          "output_type": "execute_result",
          "data": {
            "text/plain": [
              "array([[ 1.,  3.],\n",
              "       [ 9., 11.]])"
            ]
          },
          "metadata": {},
          "execution_count": 12
        }
      ]
    },
    {
      "cell_type": "code",
      "source": [
        "a3"
      ],
      "metadata": {
        "colab": {
          "base_uri": "https://localhost:8080/"
        },
        "id": "ox2hI8caOW09",
        "outputId": "b22318a0-499e-4620-9d48-2808251c002d"
      },
      "execution_count": null,
      "outputs": [
        {
          "output_type": "execute_result",
          "data": {
            "text/plain": [
              "array([[[0, 1],\n",
              "        [2, 3]],\n",
              "\n",
              "       [[4, 5],\n",
              "        [6, 7]]])"
            ]
          },
          "metadata": {},
          "execution_count": 15
        }
      ]
    },
    {
      "cell_type": "code",
      "source": [
        "a3[1,1:,1:]"
      ],
      "metadata": {
        "colab": {
          "base_uri": "https://localhost:8080/"
        },
        "id": "TLMfqBSdNbJC",
        "outputId": "8a49dfc9-b6d3-4e4e-afc6-236a894a5cb8"
      },
      "execution_count": null,
      "outputs": [
        {
          "output_type": "execute_result",
          "data": {
            "text/plain": [
              "array([[7]])"
            ]
          },
          "metadata": {},
          "execution_count": 14
        }
      ]
    },
    {
      "cell_type": "code",
      "source": [],
      "metadata": {
        "id": "T-rpWxBON43v"
      },
      "execution_count": null,
      "outputs": []
    }
  ]
}